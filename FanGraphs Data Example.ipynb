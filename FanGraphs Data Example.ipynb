{
 "cells": [
  {
   "cell_type": "markdown",
   "metadata": {},
   "source": [
    "# FanGraphs Data Scrape\n",
    "\n",
    "*Gathering FanGraphs data for use in monitoring player performance.*"
   ]
  },
  {
   "cell_type": "markdown",
   "metadata": {},
   "source": [
    "## Setup"
   ]
  },
  {
   "cell_type": "code",
   "execution_count": null,
   "metadata": {
    "collapsed": true
   },
   "outputs": [],
   "source": [
    "import os\n",
    "import time\n",
    "import pandas as pd\n",
    "import sqlite3\n",
    "from selenium import webdriver\n",
    "from selenium.webdriver.support.wait import WebDriverWait\n",
    "from selenium.webdriver.common.desired_capabilities import DesiredCapabilities\n",
    "from selenium.webdriver.support import expected_conditions as EC\n",
    "from selenium.webdriver.common.by import By\n",
    "from tqdm import tqdm_notebook"
   ]
  },
  {
   "cell_type": "markdown",
   "metadata": {},
   "source": [
    "### Prepare Database\n",
    "\n",
    "CSV files are downloaded to the specified directory and inserted into tables in a SQLite database. Existing files should be deleted and if the database does not exist, it will be creating upon connect.\n",
    "\n",
    "Tables are not specified before creation simply to save time. Should a field change or be added, a complete reload is recommended."
   ]
  },
  {
   "cell_type": "code",
   "execution_count": null,
   "metadata": {
    "collapsed": false
   },
   "outputs": [],
   "source": [
    "csvpath = \"./FanGraphs Leaderboard.csv\"\n",
    "\n",
    "try:\n",
    "    os.remove(csvpath)\n",
    "except OSError:\n",
    "    pass\n",
    "\n",
    "fgdb = sqlite3.connect('./FanGraphs.db')\n",
    "\n",
    "first_year = 2016\n",
    "latest_year = 2017"
   ]
  },
  {
   "cell_type": "markdown",
   "metadata": {},
   "source": [
    "### Specify WebDriver\n",
    "\n",
    "This implementation is for OSX. It can be downloaded from [Google](https://sites.google.com/a/chromium.org/chromedriver/downloads) directly and unzipped to the repositories main directory."
   ]
  },
  {
   "cell_type": "code",
   "execution_count": null,
   "metadata": {
    "collapsed": false
   },
   "outputs": [],
   "source": [
    "chromeOptions = webdriver.ChromeOptions()\n",
    "prefs = {\"download.default_directory\": os.getcwd()}\n",
    "chromeOptions.add_experimental_option(\"prefs\", prefs)\n",
    "chromedriver = os.getcwd() + \"/chromedriver\"\n",
    "\n",
    "cap = DesiredCapabilities.CHROME\n",
    "cap[\"pageLoadStrategy\"] = \"none\""
   ]
  },
  {
   "cell_type": "markdown",
   "metadata": {},
   "source": [
    "### Function to Replace Characters in Field Names\n",
    "\n",
    "SQLite databases are less flexible than Pandas dataframes in terms of acceptable field names. This function accounts for these situations and adds variables as necessary. "
   ]
  },
  {
   "cell_type": "code",
   "execution_count": null,
   "metadata": {
    "collapsed": false
   },
   "outputs": [],
   "source": [
    "repdict = {' ': '_',\n",
    "           '%': 'pct',\n",
    "           '(': '',\n",
    "           ')': '',\n",
    "           '.': '',\n",
    "           '-': 'm',\n",
    "           '/': 'd',\n",
    "           '+': 'p',\n",
    "           '1B': 'H1B',\n",
    "           '2B': 'H2B',\n",
    "           '3B': 'H3B'}\n",
    "\n",
    "\n",
    "def clean_file(filepath, level, league='', season='', position=''):\n",
    "    \"\"\"Clean data prior to loading to database\"\"\"\n",
    "    leaderboard = pd.read_csv(filepath)\n",
    "    leaderboard['Level'] = level\n",
    "    if season != '':\n",
    "        leaderboard['Season'] = season\n",
    "    else:\n",
    "        pass\n",
    "    if league != '':\n",
    "        leaderboard['League'] = league\n",
    "    else:\n",
    "        pass\n",
    "    if position != '':\n",
    "        leaderboard['Position'] = position\n",
    "    else:\n",
    "        pass\n",
    "    cols = list(leaderboard)\n",
    "    for i in range(len(cols)):\n",
    "        for key in repdict:\n",
    "            cols[i] = cols[i].replace(key, repdict[key])\n",
    "    leaderboard.columns = cols\n",
    "    return leaderboard"
   ]
  },
  {
   "cell_type": "markdown",
   "metadata": {},
   "source": [
    "## MLB Batting Data\n",
    "\n",
    "Non-pitch data from 1990 to 2017 (season to-date). Details can be found directly in the report [link](http://www.fangraphs.com/leaders.aspx?pos=all&stats=bat&lg=all&qual=0&type=c,3,4,5,6,7,8,9,10,11,12,13,14,15,16,17,18,19,20,21,22,23,24,25,26,27,28,29,30,31,32,33,34,35,36,37,38,39,40,41,42,43,44,45,46,47,48,49,50,51,52,53,54,55,56,57,58,59,60,61,62,63,64,65,66,67,68,69,70,71,102,103,104,105,106,107,108,109,110,111,198,199,200,201,203,204,205,206,207,208,209,210,211,212&season=2017&month=0&season1=2017&ind=0&team=&rost=&age=&filter=&players=\n",
    "). Position, height, and weight are not included. "
   ]
  },
  {
   "cell_type": "code",
   "execution_count": null,
   "metadata": {
    "collapsed": false
   },
   "outputs": [],
   "source": [
    "for year in tqdm_notebook(range(first_year, latest_year+1), desc='Years'):\n",
    "\n",
    "    link = \"http://www.fangraphs.com/leaders.aspx?pos=all&stats=bat&lg=all&qual=0&type=c,3,4,5,6,7,8,9,10,11,12,13,14,15,16,17,18,19,20,21,22,23,24,25,26,27,28,29,30,31,32,33,34,35,36,37,38,39,40,41,42,43,44,45,46,47,48,49,50,51,52,53,54,55,56,57,58,59,60,61,62,63,64,65,66,67,68,69,70,71,102,103,104,105,106,107,108,109,110,111,198,199,200,201,203,204,205,206,207,208,209,210,211,212&season={}&month=0&season1={}&ind=0&team=&rost=&age=&filter=&players=\".format(str(year), str(year)) # noqa\n",
    "    driver = webdriver.Chrome(executable_path=chromedriver,\n",
    "                              chrome_options=chromeOptions,\n",
    "                              desired_capabilities=cap)\n",
    "    wait = WebDriverWait(driver, 20)\n",
    "    driver.get(link)\n",
    "    wait.until(EC.presence_of_element_located((By.ID, \"LeaderBoard1_cmdCSV\")))\n",
    "    driver.execute_script(\"window.stop();\")\n",
    "\n",
    "    # Click the Export Data button\n",
    "    driver.execute_script(\"window.scrollTo(0, 200)\")\n",
    "    driver.find_element_by_id(\"LeaderBoard1_cmdCSV\").click()\n",
    "\n",
    "    # Wait until file downloads successfully\n",
    "    while not os.path.exists(csvpath):\n",
    "        time.sleep(0.1)\n",
    "    if os.path.isfile(csvpath):\n",
    "\n",
    "        # Import data and insert into table\n",
    "        fglb = clean_file(csvpath, level=\"MLB\", season=year)\n",
    "        pd.io.sql.to_sql(fglb, name='majorsb', con=fgdb, if_exists='append')\n",
    "\n",
    "        try:\n",
    "            os.remove(csvpath)\n",
    "        except OSError:\n",
    "            pass\n",
    "        time.sleep(2)\n",
    "    else:\n",
    "        raise ValueError(\"{} does not exist\".format(csvpath))\n",
    "    driver.close()\n",
    "\n",
    "# Delete duplicates\n",
    "fgdb.execute(\"\"\"DELETE\n",
    "                FROM majorsb\n",
    "                WHERE rowid NOT IN (SELECT MIN(rowid)\n",
    "                FROM majorsb\n",
    "                GROUP BY Season, Level, Team, Name, playerid)\"\"\")"
   ]
  },
  {
   "cell_type": "markdown",
   "metadata": {},
   "source": [
    "## MLB Pitching Data\n",
    "\n",
    "Non-pitch data from 1990 to 2017 (season to-date). Details can be found directly in the report [link](http://www.fangraphs.com/leaders.aspx?pos=all&stats=pit&lg=all&qual=0&type=c,3,4,5,6,7,8,9,10,11,12,13,14,15,16,17,18,19,20,21,22,23,24,25,26,27,28,29,30,31,32,33,34,35,36,37,38,39,40,41,42,43,44,45,46,47,48,49,50,51,52,53,54,55,56,57,58,59,60,61,62,63,64,65,66,67,68,69,70,71,72,73,74,105,106,107,108,109,110,111,112,113,114,115,116,117,118,119,120,121,122,123,124,211,212,213,214,215,217,218,219,220,221,222,223,224,225&season=2017&month=0&season1=2017&ind=0&team=&rost=&age=&filter=&players=). Height and weight are not included. "
   ]
  },
  {
   "cell_type": "code",
   "execution_count": null,
   "metadata": {
    "collapsed": false
   },
   "outputs": [],
   "source": [
    "for year in tqdm_notebook(range(first_year, latest_year+1), desc='Years'):\n",
    "\n",
    "    link = \"http://www.fangraphs.com/leaders.aspx?pos=all&stats=pit&lg=all&qual=0&type=c,3,4,5,6,7,8,9,10,11,12,13,14,15,16,17,18,19,20,21,22,23,24,25,26,27,28,29,30,31,32,33,34,35,36,37,38,39,40,41,42,43,44,45,46,47,48,49,50,51,52,53,54,55,56,57,58,59,60,61,62,63,64,65,66,67,68,69,70,71,72,73,74,105,106,107,108,109,110,111,112,113,114,115,116,117,118,119,120,121,122,123,124,211,212,213,214,215,217,218,219,220,221,222,223,224,225&season={}&month=0&season1={}&ind=0&team=&rost=&age=&filter=&players=\".format(str(year), str(year)) # noqa\n",
    "    driver = webdriver.Chrome(executable_path=chromedriver,\n",
    "                              chrome_options=chromeOptions,\n",
    "                              desired_capabilities=cap)\n",
    "    wait = WebDriverWait(driver, 20)\n",
    "    driver.get(link)\n",
    "    wait.until(EC.presence_of_element_located((By.ID, \"LeaderBoard1_cmdCSV\")))\n",
    "    driver.execute_script(\"window.stop();\")\n",
    "\n",
    "    # Click the Export Data button\n",
    "    driver.execute_script(\"window.scrollTo(0, 200)\")\n",
    "    driver.find_element_by_id(\"LeaderBoard1_cmdCSV\").click()\n",
    "\n",
    "    # Wait until file downloads successfully\n",
    "    while not os.path.exists(csvpath):\n",
    "        time.sleep(0.1)\n",
    "    if os.path.isfile(csvpath):\n",
    "\n",
    "        # Import data and insert into table\n",
    "        fglb = clean_file(csvpath, level=\"MLB\", season=year)\n",
    "        pd.io.sql.to_sql(fglb, name='majorsp', con=fgdb, if_exists='append')\n",
    "\n",
    "        try:\n",
    "            os.remove(csvpath)\n",
    "        except OSError:\n",
    "            pass\n",
    "        time.sleep(2)\n",
    "    else:\n",
    "        raise ValueError(\"{} does not exist\".format(csvpath))\n",
    "    driver.close()\n",
    "\n",
    "# Delete duplicates\n",
    "fgdb.execute(\"\"\"DELETE\n",
    "                FROM majorsp\n",
    "                WHERE rowid NOT IN (SELECT MIN(rowid)\n",
    "                FROM majorsp\n",
    "                GROUP BY Season, Level, Team, Name, playerid)\"\"\")"
   ]
  },
  {
   "cell_type": "code",
   "execution_count": null,
   "metadata": {
    "collapsed": true
   },
   "outputs": [],
   "source": [
    "fgdb.commit() \n",
    "fgdb.close()"
   ]
  },
  {
   "cell_type": "code",
   "execution_count": null,
   "metadata": {
    "collapsed": true
   },
   "outputs": [],
   "source": []
  }
 ],
 "metadata": {
  "anaconda-cloud": {},
  "kernelspec": {
   "display_name": "Python [conda env:drei]",
   "language": "python",
   "name": "conda-env-drei-py"
  },
  "language_info": {
   "codemirror_mode": {
    "name": "ipython",
    "version": 3
   },
   "file_extension": ".py",
   "mimetype": "text/x-python",
   "name": "python",
   "nbconvert_exporter": "python",
   "pygments_lexer": "ipython3",
   "version": "3.5.2"
  }
 },
 "nbformat": 4,
 "nbformat_minor": 2
}
