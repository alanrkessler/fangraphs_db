{
 "cells": [
  {
   "cell_type": "markdown",
   "metadata": {},
   "source": [
    "# FanGraphs Data Scrape\n",
    "\n",
    "*Gathering FanGraphs data for use in monitoring player performance.*"
   ]
  },
  {
   "cell_type": "code",
   "execution_count": 1,
   "metadata": {},
   "outputs": [],
   "source": [
    "import fangraphs_db as fg"
   ]
  },
  {
   "cell_type": "markdown",
   "metadata": {},
   "source": [
    "## Download Leaderboard\n",
    "\n",
    "This function will clear an existing leaderboard, specify the web driver, and download the file. This applies for anywhere on the FanGraphs site that features an 'Export Data' button. It returns a boolean of whether the file successfully downloaded. "
   ]
  },
  {
   "cell_type": "code",
   "execution_count": 2,
   "metadata": {},
   "outputs": [],
   "source": [
    "leaderboard = fg.download_leaderboard(\"https://www.fangraphs.com/leaders.aspx?\"\n",
    "                                      \"pos=all&stats=bat&lg=all&qual=y&type=8&\"\n",
    "                                      \"season=2018&month=0&season1=2018&ind=0\")"
   ]
  },
  {
   "cell_type": "markdown",
   "metadata": {},
   "source": [
    "## Clean File\n",
    "\n",
    "This function manually provides additional context that would have been present in the selection but not in the leaderboard itself. For example, this would include the level if minor league data was selected. Additionally, it replaces special characters that may not be accepted in a database like Sqlite such as `%`. "
   ]
  },
  {
   "cell_type": "code",
   "execution_count": 3,
   "metadata": {},
   "outputs": [
    {
     "data": {
      "text/html": "<div>\n<style scoped>\n    .dataframe tbody tr th:only-of-type {\n        vertical-align: middle;\n    }\n\n    .dataframe tbody tr th {\n        vertical-align: top;\n    }\n\n    .dataframe thead th {\n        text-align: right;\n    }\n</style>\n<table border=\"1\" class=\"dataframe\">\n  <thead>\n    <tr style=\"text-align: right;\">\n      <th></th>\n      <th>Name</th>\n      <th>Team</th>\n      <th>G</th>\n      <th>PA</th>\n      <th>HR</th>\n      <th>R</th>\n      <th>RBI</th>\n      <th>SB</th>\n      <th>BBpct</th>\n      <th>Kpct</th>\n      <th>...</th>\n      <th>OBP</th>\n      <th>SLG</th>\n      <th>wOBA</th>\n      <th>wRCplus</th>\n      <th>BsR</th>\n      <th>Off</th>\n      <th>Def</th>\n      <th>WAR</th>\n      <th>playerid</th>\n      <th>Level</th>\n    </tr>\n  </thead>\n  <tbody>\n    <tr>\n      <th>0</th>\n      <td>Mookie Betts</td>\n      <td>Red Sox</td>\n      <td>136</td>\n      <td>614</td>\n      <td>32</td>\n      <td>129</td>\n      <td>80</td>\n      <td>30</td>\n      <td>13.2 %</td>\n      <td>14.8 %</td>\n      <td>...</td>\n      <td>0.438</td>\n      <td>0.640</td>\n      <td>0.449</td>\n      <td>185</td>\n      <td>6.9</td>\n      <td>69.2</td>\n      <td>11.6</td>\n      <td>10.4</td>\n      <td>13611</td>\n      <td>MLB</td>\n    </tr>\n    <tr>\n      <th>1</th>\n      <td>Mike Trout</td>\n      <td>Angels</td>\n      <td>140</td>\n      <td>608</td>\n      <td>39</td>\n      <td>101</td>\n      <td>79</td>\n      <td>24</td>\n      <td>20.1 %</td>\n      <td>20.4 %</td>\n      <td>...</td>\n      <td>0.460</td>\n      <td>0.628</td>\n      <td>0.447</td>\n      <td>190</td>\n      <td>5.0</td>\n      <td>70.5</td>\n      <td>4.2</td>\n      <td>9.8</td>\n      <td>10155</td>\n      <td>MLB</td>\n    </tr>\n    <tr>\n      <th>2</th>\n      <td>Jose Ramirez</td>\n      <td>Indians</td>\n      <td>157</td>\n      <td>698</td>\n      <td>39</td>\n      <td>110</td>\n      <td>105</td>\n      <td>34</td>\n      <td>15.2 %</td>\n      <td>11.5 %</td>\n      <td>...</td>\n      <td>0.387</td>\n      <td>0.552</td>\n      <td>0.391</td>\n      <td>146</td>\n      <td>12.0</td>\n      <td>50.5</td>\n      <td>4.6</td>\n      <td>8.0</td>\n      <td>13510</td>\n      <td>MLB</td>\n    </tr>\n    <tr>\n      <th>3</th>\n      <td>Christian Yelich</td>\n      <td>Brewers</td>\n      <td>147</td>\n      <td>651</td>\n      <td>36</td>\n      <td>118</td>\n      <td>110</td>\n      <td>22</td>\n      <td>10.4 %</td>\n      <td>20.7 %</td>\n      <td>...</td>\n      <td>0.402</td>\n      <td>0.598</td>\n      <td>0.422</td>\n      <td>166</td>\n      <td>5.8</td>\n      <td>58.7</td>\n      <td>-5.1</td>\n      <td>7.6</td>\n      <td>11477</td>\n      <td>MLB</td>\n    </tr>\n    <tr>\n      <th>4</th>\n      <td>Francisco Lindor</td>\n      <td>Indians</td>\n      <td>158</td>\n      <td>745</td>\n      <td>38</td>\n      <td>129</td>\n      <td>92</td>\n      <td>25</td>\n      <td>9.4 %</td>\n      <td>14.4 %</td>\n      <td>...</td>\n      <td>0.352</td>\n      <td>0.519</td>\n      <td>0.368</td>\n      <td>130</td>\n      <td>1.2</td>\n      <td>28.2</td>\n      <td>21.1</td>\n      <td>7.6</td>\n      <td>12916</td>\n      <td>MLB</td>\n    </tr>\n    <tr>\n      <th>...</th>\n      <td>...</td>\n      <td>...</td>\n      <td>...</td>\n      <td>...</td>\n      <td>...</td>\n      <td>...</td>\n      <td>...</td>\n      <td>...</td>\n      <td>...</td>\n      <td>...</td>\n      <td>...</td>\n      <td>...</td>\n      <td>...</td>\n      <td>...</td>\n      <td>...</td>\n      <td>...</td>\n      <td>...</td>\n      <td>...</td>\n      <td>...</td>\n      <td>...</td>\n      <td>...</td>\n    </tr>\n    <tr>\n      <th>135</th>\n      <td>Ian Desmond</td>\n      <td>Rockies</td>\n      <td>160</td>\n      <td>619</td>\n      <td>22</td>\n      <td>82</td>\n      <td>88</td>\n      <td>20</td>\n      <td>8.6 %</td>\n      <td>23.6 %</td>\n      <td>...</td>\n      <td>0.307</td>\n      <td>0.422</td>\n      <td>0.315</td>\n      <td>82</td>\n      <td>0.0</td>\n      <td>-13.7</td>\n      <td>-11.9</td>\n      <td>-0.6</td>\n      <td>6885</td>\n      <td>MLB</td>\n    </tr>\n    <tr>\n      <th>136</th>\n      <td>Ryon Healy</td>\n      <td>Mariners</td>\n      <td>133</td>\n      <td>524</td>\n      <td>24</td>\n      <td>51</td>\n      <td>73</td>\n      <td>0</td>\n      <td>5.2 %</td>\n      <td>21.6 %</td>\n      <td>...</td>\n      <td>0.277</td>\n      <td>0.412</td>\n      <td>0.296</td>\n      <td>89</td>\n      <td>-5.3</td>\n      <td>-12.2</td>\n      <td>-13.8</td>\n      <td>-0.9</td>\n      <td>15447</td>\n      <td>MLB</td>\n    </tr>\n    <tr>\n      <th>137</th>\n      <td>Yangervis Solarte</td>\n      <td>Blue Jays</td>\n      <td>122</td>\n      <td>506</td>\n      <td>17</td>\n      <td>50</td>\n      <td>54</td>\n      <td>1</td>\n      <td>6.1 %</td>\n      <td>14.2 %</td>\n      <td>...</td>\n      <td>0.277</td>\n      <td>0.378</td>\n      <td>0.284</td>\n      <td>77</td>\n      <td>-7.7</td>\n      <td>-21.7</td>\n      <td>-7.5</td>\n      <td>-1.3</td>\n      <td>5352</td>\n      <td>MLB</td>\n    </tr>\n    <tr>\n      <th>138</th>\n      <td>Victor Martinez</td>\n      <td>Tigers</td>\n      <td>133</td>\n      <td>508</td>\n      <td>9</td>\n      <td>32</td>\n      <td>54</td>\n      <td>0</td>\n      <td>6.3 %</td>\n      <td>9.6 %</td>\n      <td>...</td>\n      <td>0.297</td>\n      <td>0.353</td>\n      <td>0.281</td>\n      <td>74</td>\n      <td>-4.1</td>\n      <td>-20.0</td>\n      <td>-13.3</td>\n      <td>-1.7</td>\n      <td>393</td>\n      <td>MLB</td>\n    </tr>\n    <tr>\n      <th>139</th>\n      <td>Chris Davis</td>\n      <td>Orioles</td>\n      <td>128</td>\n      <td>522</td>\n      <td>16</td>\n      <td>40</td>\n      <td>49</td>\n      <td>2</td>\n      <td>7.9 %</td>\n      <td>36.8 %</td>\n      <td>...</td>\n      <td>0.243</td>\n      <td>0.296</td>\n      <td>0.239</td>\n      <td>44</td>\n      <td>-1.8</td>\n      <td>-36.6</td>\n      <td>-11.7</td>\n      <td>-3.2</td>\n      <td>9272</td>\n      <td>MLB</td>\n    </tr>\n  </tbody>\n</table>\n<p>140 rows × 23 columns</p>\n</div>",
      "text/plain": "                  Name       Team    G   PA  HR    R  RBI  SB   BBpct    Kpct  \\\n0         Mookie Betts    Red Sox  136  614  32  129   80  30  13.2 %  14.8 %   \n1           Mike Trout     Angels  140  608  39  101   79  24  20.1 %  20.4 %   \n2         Jose Ramirez    Indians  157  698  39  110  105  34  15.2 %  11.5 %   \n3     Christian Yelich    Brewers  147  651  36  118  110  22  10.4 %  20.7 %   \n4     Francisco Lindor    Indians  158  745  38  129   92  25   9.4 %  14.4 %   \n..                 ...        ...  ...  ...  ..  ...  ...  ..     ...     ...   \n135        Ian Desmond    Rockies  160  619  22   82   88  20   8.6 %  23.6 %   \n136         Ryon Healy   Mariners  133  524  24   51   73   0   5.2 %  21.6 %   \n137  Yangervis Solarte  Blue Jays  122  506  17   50   54   1   6.1 %  14.2 %   \n138    Victor Martinez     Tigers  133  508   9   32   54   0   6.3 %   9.6 %   \n139        Chris Davis    Orioles  128  522  16   40   49   2   7.9 %  36.8 %   \n\n     ...    OBP    SLG   wOBA  wRCplus   BsR   Off   Def   WAR  playerid  \\\n0    ...  0.438  0.640  0.449      185   6.9  69.2  11.6  10.4     13611   \n1    ...  0.460  0.628  0.447      190   5.0  70.5   4.2   9.8     10155   \n2    ...  0.387  0.552  0.391      146  12.0  50.5   4.6   8.0     13510   \n3    ...  0.402  0.598  0.422      166   5.8  58.7  -5.1   7.6     11477   \n4    ...  0.352  0.519  0.368      130   1.2  28.2  21.1   7.6     12916   \n..   ...    ...    ...    ...      ...   ...   ...   ...   ...       ...   \n135  ...  0.307  0.422  0.315       82   0.0 -13.7 -11.9  -0.6      6885   \n136  ...  0.277  0.412  0.296       89  -5.3 -12.2 -13.8  -0.9     15447   \n137  ...  0.277  0.378  0.284       77  -7.7 -21.7  -7.5  -1.3      5352   \n138  ...  0.297  0.353  0.281       74  -4.1 -20.0 -13.3  -1.7       393   \n139  ...  0.243  0.296  0.239       44  -1.8 -36.6 -11.7  -3.2      9272   \n\n     Level  \n0      MLB  \n1      MLB  \n2      MLB  \n3      MLB  \n4      MLB  \n..     ...  \n135    MLB  \n136    MLB  \n137    MLB  \n138    MLB  \n139    MLB  \n\n[140 rows x 23 columns]"
     },
     "execution_count": 3,
     "metadata": {},
     "output_type": "execute_result"
    }
   ],
   "source": [
    "fg.clean_file()"
   ]
  },
  {
   "cell_type": "code",
   "execution_count": null,
   "metadata": {},
   "outputs": [],
   "source": []
  }
 ],
 "metadata": {
  "anaconda-cloud": {},
  "kernelspec": {
   "display_name": "py36",
   "language": "python",
   "name": "py36"
  },
  "language_info": {
   "codemirror_mode": {
    "name": "ipython",
    "version": 3
   },
   "file_extension": ".py",
   "mimetype": "text/x-python",
   "name": "python",
   "nbconvert_exporter": "python",
   "pygments_lexer": "ipython3",
   "version": "3.6.7"
  }
 },
 "nbformat": 4,
 "nbformat_minor": 2
}